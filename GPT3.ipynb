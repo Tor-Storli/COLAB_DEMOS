{
  "nbformat": 4,
  "nbformat_minor": 0,
  "metadata": {
    "colab": {
      "provenance": []
    },
    "kernelspec": {
      "name": "python3",
      "display_name": "Python 3"
    },
    "language_info": {
      "name": "python"
    },
    "gpuClass": "standard"
  },
  "cells": [
    {
      "cell_type": "code",
      "execution_count": null,
      "metadata": {
        "id": "-ofxTfzMeElo"
      },
      "outputs": [],
      "source": [
        "!pip install openai"
      ]
    },
    {
      "cell_type": "code",
      "source": [
        "import openai"
      ],
      "metadata": {
        "id": "lyerRTUgfhIZ"
      },
      "execution_count": null,
      "outputs": []
    },
    {
      "cell_type": "code",
      "source": [
        "# Open text file that contains your openai key\n",
        "def get_GTP3_key(filename):\n",
        "    with open(filename, 'r', encoding='utf-8') as GTP3keyfile:\n",
        "        return GTP3keyfile.read()"
      ],
      "metadata": {
        "id": "4FZFt38xfhMH"
      },
      "execution_count": null,
      "outputs": []
    },
    {
      "cell_type": "code",
      "source": [
        "# Load the openai key into the openai module api_key string variable\n",
        "openai.api_key = get_GTP3_key('GPT3_Key.txt')"
      ],
      "metadata": {
        "id": "ayFzGnVSjjwf"
      },
      "execution_count": null,
      "outputs": []
    },
    {
      "cell_type": "code",
      "source": [
        "# Create a function with some default values that calls the openai API returns the results \n",
        "def call_openai(search_prompt, engine='text-davinci-003', temp=0.3, top_p=1.0, tokens=400, freq_pen=0.0, pres_pen=0.0, stop=['END']):\n",
        "    print(engine)\n",
        "    print(temp)\n",
        "    print('===========')\n",
        "    prompt = search_prompt.encode(encoding='ASCII',errors='ignore').decode()\n",
        "    response = openai.Completion.create(\n",
        "        engine=engine,\n",
        "        prompt=prompt,\n",
        "        temperature=temp,\n",
        "        max_tokens=tokens,\n",
        "        top_p=top_p,\n",
        "        frequency_penalty=freq_pen,\n",
        "        presence_penalty=pres_pen,\n",
        "        stop=stop)\n",
        "    text = response['choices'][0]['text'].strip()\n",
        "\n",
        "    return text"
      ],
      "metadata": {
        "id": "LkoR-l06fhTB"
      },
      "execution_count": null,
      "outputs": []
    },
    {
      "cell_type": "code",
      "source": [
        "# call davinci-003 to create some IT Jokes\n",
        "prompttext = 'Tell me 5 really funny jokes about Web Developers that will make me laugh out loud'\n",
        "temp = 0.7\n",
        "engine = 'text-davinci-003'"
      ],
      "metadata": {
        "id": "m4G1uHuhfhVf"
      },
      "execution_count": null,
      "outputs": []
    },
    {
      "cell_type": "code",
      "source": [
        "output = call_openai(prompttext, engine=engine, temp=temp)\n",
        "print('Prompt: ', prompttext)\n",
        "print('=================================================================')\n",
        "print(output)"
      ],
      "metadata": {
        "colab": {
          "base_uri": "https://localhost:8080/"
        },
        "id": "VAwsLcUK4Cp0",
        "outputId": "ca7ef89a-0ed5-491c-e297-31e191fb5fa2"
      },
      "execution_count": null,
      "outputs": [
        {
          "output_type": "stream",
          "name": "stdout",
          "text": [
            "text-davinci-003\n",
            "0.7\n",
            "===========\n",
            "Prompt:  Tell me 5 really funny jokes about Web Developers that will make me laugh out loud\n",
            "=================================================================\n",
            "1. What did the web developer say when he found a bug in his code? Oh dear, I'm debugging.\n",
            "\n",
            "2. What did the web developer say when he ran out of ideas? Time to Google it.\n",
            "\n",
            "3. What did the web developer say when he found an error in his code? 404 not funny.\n",
            "\n",
            "4. What did the web developer say when his project was late? I'm running behind schedule.\n",
            "\n",
            "5. What did the web developer say when the client asked for an impossible feature? That's not in the scope of this project.\n"
          ]
        }
      ]
    },
    {
      "cell_type": "code",
      "source": [
        "# call davinci-003 to show calculations for converting Degrees into latitude, Longitude Decimals\n",
        "prompttext = 'Give a 2 examples and show the calculations of how to convert Degrees into decimal latitude and Longitude'\n",
        "engine = 'text-davinci-003'\n",
        "temp = 0.7"
      ],
      "metadata": {
        "id": "lRaG-SaD2Qjx"
      },
      "execution_count": null,
      "outputs": []
    },
    {
      "cell_type": "code",
      "source": [
        "output = call_openai(prompttext,temp=temp)\n",
        "print('Prompt: ', prompttext)\n",
        "print('=================================================================')\n",
        "print(output)"
      ],
      "metadata": {
        "colab": {
          "base_uri": "https://localhost:8080/"
        },
        "id": "NrSwFFxk3PPi",
        "outputId": "86250ed2-4b57-417f-dd5a-45b1b7e253ba"
      },
      "execution_count": null,
      "outputs": [
        {
          "output_type": "stream",
          "name": "stdout",
          "text": [
            "text-davinci-003\n",
            "0.7\n",
            "===========\n",
            "Prompt:  Give a 2 examples and show the calculations of how to convert Degrees into decimal latitude and Longitude\n",
            "=================================================================\n",
            "Example 1:\n",
            "\n",
            "Degrees: Latitude: 37°36'15\"\n",
            "Longitude: 122°07'54\"\n",
            "\n",
            "Decimal Conversion:\n",
            "\n",
            "Latitude: 37.60417\n",
            "Longitude: 122.13167\n",
            "\n",
            "Calculation:\n",
            "\n",
            "Latitude: 37 + (36/60) + (15/3600) = 37.60417\n",
            "Longitude: 122 + (7/60) + (54/3600) = 122.13167\n",
            "\n",
            "Example 2:\n",
            "\n",
            "Degrees: Latitude: 41°45'12\"\n",
            "Longitude: 87°38'20\"\n",
            "\n",
            "Decimal Conversion:\n",
            "\n",
            "Latitude: 41.75333\n",
            "Longitude: 87.63889\n",
            "\n",
            "Calculation:\n",
            "\n",
            "Latitude: 41 + (45/60) + (12/3600) = 41.75333\n",
            "Longitude: 87 + (38/60) + (20/3600) = 87.63889\n"
          ]
        }
      ]
    },
    {
      "cell_type": "code",
      "source": [
        "# call davinci-003 to show calculations for converting Degrees into latitude, Longitude Decimals\n",
        "prompttext = 'Create a list of AC/DC Albums listing the Album name, Songs on the album, sorted by year released in ascending order\\n\\nLIST OF ALBUMS:\\nNAME (YEAR):\\n    SONGS:\\n        -'\n",
        "engine = 'text-davinci-003'\n",
        "temp = 0.0\n",
        "stop = '\\n'\n",
        "tokens = 1444\n",
        "print(prompttext)"
      ],
      "metadata": {
        "id": "77VPgWm43Pm6",
        "colab": {
          "base_uri": "https://localhost:8080/"
        },
        "outputId": "3ccf916a-f487-41ba-8f03-35c94ebbefd2"
      },
      "execution_count": null,
      "outputs": [
        {
          "output_type": "stream",
          "name": "stdout",
          "text": [
            "Create a list of AC/DC Albums listing the Album name, Songs on the album, sorted by year released in ascending order\n",
            "\n",
            "LIST OF ALBUMS:\n",
            "NAME (YEAR):\n",
            "    SONGS:\n",
            "        -\n"
          ]
        }
      ]
    },
    {
      "cell_type": "code",
      "source": [
        "output = call_openai(prompttext,engine=engine,temp=temp)\n",
        "print('Prompt: ', prompttext)\n",
        "print('=================================================================')\n",
        "print(output)"
      ],
      "metadata": {
        "colab": {
          "base_uri": "https://localhost:8080/"
        },
        "id": "sFS4KGUT911F",
        "outputId": "b3751528-49e4-40d5-b1b2-08db33c802d5"
      },
      "execution_count": null,
      "outputs": [
        {
          "output_type": "stream",
          "name": "stdout",
          "text": [
            "text-davinci-003\n",
            "0.0\n",
            "===========\n",
            "Prompt:  Create a list of AC/DC Albums listing the Album name, Songs on the album, sorted by year released in ascending order\n",
            "\n",
            "LIST OF ALBUMS:\n",
            "NAME (YEAR):\n",
            "    SONGS:\n",
            "        -\n",
            "=================================================================\n",
            "1. High Voltage (1975):\n",
            "    - It's a Long Way to the Top (If You Wanna Rock 'n' Roll)\n",
            "    - Rock 'n' Roll Singer\n",
            "    - The Jack\n",
            "    - Live Wire\n",
            "    - T.N.T.\n",
            "    - Can I Sit Next to You Girl\n",
            "    - Little Lover\n",
            "    - She's Got Balls\n",
            "    - High Voltage\n",
            "\n",
            "2. Dirty Deeds Done Dirt Cheap (1976):\n",
            "    - Dirty Deeds Done Dirt Cheap\n",
            "    - Love at First Feel\n",
            "    - Big Balls\n",
            "    - Rocker\n",
            "    - Problem Child\n",
            "    - There's Gonna Be Some Rockin'\n",
            "    - Ain't No Fun (Waiting 'Round to Be a Millionaire)\n",
            "    - Ride On\n",
            "    - Squealer\n",
            "\n",
            "3. Let There Be Rock (1977):\n",
            "    - Go Down\n",
            "    - Dog Eat Dog\n",
            "    - Let There Be Rock\n",
            "    - Bad Boy Boogie\n",
            "    - Overdose\n",
            "    - Hell Ain't a Bad Place to Be\n",
            "    - Whole Lotta Rosie\n",
            "\n",
            "4. Powerage (1978):\n",
            "    - Rock 'n' Roll Damnation\n",
            "    - Down Payment Blues\n",
            "    - Gimme a Bullet\n",
            "    - Riff Raff\n",
            "    - Sin City\n",
            "    - What's Next to the Moon\n",
            "    - Gone Shootin'\n",
            "    - Up to My Neck in You\n",
            "    - Kicked in the Teeth\n",
            "\n",
            "5. Highway to Hell (1979):\n",
            "    - Highway to Hell\n",
            "    - Girls Got Rhythm\n",
            "    - Walk All Over You\n",
            "    - Touch Too Much\n",
            "    - Beating Around the Bush\n",
            "    - Shot Down in Flames\n",
            "    - Get It Hot\n",
            "    - If You Want Blood (You've Got It)\n",
            "    - Love Hungry Man\n",
            "    - Night Prowler\n"
          ]
        }
      ]
    },
    {
      "cell_type": "code",
      "source": [
        "# call babbage-001 to get tips on becomming a successful Database Developer\n",
        "prompttext = 'Provide 5 tips for be a successful Database Developer'\n",
        "engine = 'text-davinci-003'\n",
        "temp = 0.7\n",
        "stop = '\\n'\n",
        "tokens = 300\n",
        "print(prompttext)"
      ],
      "metadata": {
        "id": "cBLi-8bfw2Z-",
        "colab": {
          "base_uri": "https://localhost:8080/"
        },
        "outputId": "5dc34ad5-db5a-44b7-abe1-edaf0e9bb2d1"
      },
      "execution_count": null,
      "outputs": [
        {
          "output_type": "stream",
          "name": "stdout",
          "text": [
            "Provide 5 tips for be a successful Database Developer\n"
          ]
        }
      ]
    },
    {
      "cell_type": "code",
      "source": [
        "output = call_openai(prompttext,engine=engine,temp=temp)\n",
        "print('Prompt: ', prompttext)\n",
        "print('=================================================================')\n",
        "print(output)"
      ],
      "metadata": {
        "colab": {
          "base_uri": "https://localhost:8080/"
        },
        "id": "9dmDvwGkfhYh",
        "outputId": "010c0114-d240-4023-913a-94e757a2de6c"
      },
      "execution_count": null,
      "outputs": [
        {
          "output_type": "stream",
          "name": "stdout",
          "text": [
            "text-davinci-003\n",
            "0.7\n",
            "===========\n",
            "Prompt:  Provide 5 tips for be a successful Database Developer\n",
            "=================================================================\n",
            "1. Stay Up-to-Date: Database technologies are constantly changing and evolving, and to be a successful database developer, you must stay up-to-date with the latest developments and trends.\n",
            "\n",
            "2. Learn the Basics: As with any profession, knowledge of the basics is essential for success. Make sure you have a strong understanding of the fundamentals of database development, such as relational databases, SQL, and database design.\n",
            "\n",
            "3. Understand the Business Needs: Database developers need to understand the business requirements of the organization they are working with. This means they need to take the time to understand the business needs of the organization and the data requirements to meet those needs.\n",
            "\n",
            "4. Develop Good Problem-Solving Skills: Database developers need to be able to think through problems and develop solutions. Being able to diagnose and troubleshoot technical problems quickly and efficiently is a valuable skill.\n",
            "\n",
            "5. Test Your Code: Testing your code is essential to ensure your database is working properly and to prevent any potential issues. Make sure to test your code thoroughly before deploying it to a production environment.\n"
          ]
        }
      ]
    },
    {
      "cell_type": "code",
      "source": [
        "# call code-davinci-002 to genrate som sql queries for Oracle\n",
        "prompttext = 'Create the PL/SQL code for a select query that use the LISTAGG function.'\n",
        "engine = 'code-davinci-002'\n",
        "temp = 0.0\n",
        "print(prompttext)"
      ],
      "metadata": {
        "colab": {
          "base_uri": "https://localhost:8080/"
        },
        "id": "UIDSdRsyuOc6",
        "outputId": "9b995460-eeb6-4a2a-8b82-8cf661503dd8"
      },
      "execution_count": null,
      "outputs": [
        {
          "output_type": "stream",
          "name": "stdout",
          "text": [
            "Create the PL/SQL code for a select query that use the LISTAGG function.\n"
          ]
        }
      ]
    },
    {
      "cell_type": "code",
      "source": [
        "output = call_openai(prompttext,engine=engine,temp=temp)\n",
        "print('Prompt: ', prompttext)\n",
        "print('=================================================================')\n",
        "print(output)"
      ],
      "metadata": {
        "colab": {
          "base_uri": "https://localhost:8080/"
        },
        "id": "SrDbZlQEuORq",
        "outputId": "fe4d9135-5045-450e-d150-341714959c2e"
      },
      "execution_count": null,
      "outputs": [
        {
          "output_type": "stream",
          "name": "stdout",
          "text": [
            "code-davinci-002\n",
            "0.0\n",
            "===========\n",
            "Prompt:  Create the PL/SQL code for a select query that use the LISTAGG function.\n",
            "=================================================================\n",
            "The query should return the following columns:\n",
            "\n",
            "- The department number\n",
            "- The department name\n",
            "- The list of employees in the department\n",
            "\n",
            "The list of employees should be a comma separated list of employee names.\n",
            "\n",
            "The query should return the departments in ascending order of department number.\n",
            "\n",
            "The query should return the employees in ascending order of employee name.\n",
            "\n",
            "The query should return the employees in the list in ascending order of employee name.\n",
            "\n",
            "The query should return the employees in the list in ascending order of employee name.\n",
            "\n",
            "The query should return the employees in the list in ascending order of employee name.\n",
            "\n",
            "The query should return the employees in the list in ascending order of employee name.\n",
            "\n",
            "The query should return the employees in the list in ascending order of employee name.\n",
            "\n",
            "The query should return the employees in the list in ascending order of employee name.\n",
            "\n",
            "The query should return the employees in the list in ascending order of employee name.\n",
            "\n",
            "The query should return the employees in the list in ascending order of employee name.\n",
            "\n",
            "The query should return the employees in the list in ascending order of employee name.\n",
            "\n",
            "The query should return the employees in the list in ascending order of employee name.\n",
            "\n",
            "The query should return the employees in the list in ascending order of employee name.\n",
            "\n",
            "The query should return the employees in the list in ascending order of employee name.\n",
            "\n",
            "The query should return the employees in the list in ascending order of employee name.\n",
            "\n",
            "The query should return the employees in the list in ascending order of employee name.\n",
            "\n",
            "The query should return the employees in the list in ascending order of employee name.\n",
            "\n",
            "The query should return the employees in the list in ascending order of employee name.\n",
            "\n",
            "The query should return the employees in the list in ascending order of employee name.\n",
            "\n",
            "The query should return the employees in the list in ascending order of employee name\n"
          ]
        }
      ]
    },
    {
      "cell_type": "code",
      "source": [
        "# call GPT-3 to generate a SQL Server database design for a ecommerce site\n",
        "prompttext = 'Create a SQL Server 2016 database design including tables, datatypes with NULL and NOT Null values, primary and foreign keys realtionship between the tables for a web ecommerce store.\\n'\n",
        "engine = 'text-davinci-003'\n",
        "temp = 0.0\n",
        "top_p = 0.5\n",
        "tokens = 1500\n",
        "stop='\\n'\n",
        "print(prompttext)"
      ],
      "metadata": {
        "colab": {
          "base_uri": "https://localhost:8080/"
        },
        "id": "Rnew4v-lxPKP",
        "outputId": "cb6c2ac0-c737-46aa-aecb-b1aa5b86a419"
      },
      "execution_count": null,
      "outputs": [
        {
          "output_type": "stream",
          "name": "stdout",
          "text": [
            "Create a SQL Server 2016 database design including tables, datatypes with NULL and NOT Null values, primary and foreign keys realtionship between the tables for a web ecommerce store.\n",
            "\n"
          ]
        }
      ]
    },
    {
      "cell_type": "code",
      "source": [
        "output = call_openai(prompttext,engine=engine,temp=temp,top_p=top_p, tokens=tokens)\n",
        "print('Prompt: ', prompttext)\n",
        "print('=================================================================')\n",
        "print(output)"
      ],
      "metadata": {
        "colab": {
          "base_uri": "https://localhost:8080/"
        },
        "id": "UudUyzmzxX-Z",
        "outputId": "5cb0635b-5cbe-4334-9598-7bd35985db19"
      },
      "execution_count": null,
      "outputs": [
        {
          "output_type": "stream",
          "name": "stdout",
          "text": [
            "text-davinci-003\n",
            "0.0\n",
            "===========\n",
            "Prompt:  Create a SQL Server 2016 database design including tables, datatypes with NULL and NOT Null values, primary and foreign keys realtionship between the tables for a web ecommerce store.\n",
            "\n",
            "=================================================================\n",
            "Table: Products\n",
            "\n",
            "Columns: \n",
            "ProductID (int, NOT NULL, Primary Key)\n",
            "ProductName (varchar(50), NOT NULL)\n",
            "ProductDescription (varchar(255), NULL)\n",
            "Price (decimal, NOT NULL)\n",
            "\n",
            "Table: Categories\n",
            "\n",
            "Columns: \n",
            "CategoryID (int, NOT NULL, Primary Key)\n",
            "CategoryName (varchar(50), NOT NULL)\n",
            "\n",
            "Table: ProductCategories\n",
            "\n",
            "Columns: \n",
            "ProductCategoryID (int, NOT NULL, Primary Key)\n",
            "ProductID (int, NOT NULL, Foreign Key)\n",
            "CategoryID (int, NOT NULL, Foreign Key)\n",
            "\n",
            "Table: Orders\n",
            "\n",
            "Columns: \n",
            "OrderID (int, NOT NULL, Primary Key)\n",
            "OrderDate (datetime, NOT NULL)\n",
            "CustomerID (int, NOT NULL, Foreign Key)\n",
            "\n",
            "Table: OrderDetails\n",
            "\n",
            "Columns: \n",
            "OrderDetailID (int, NOT NULL, Primary Key)\n",
            "OrderID (int, NOT NULL, Foreign Key)\n",
            "ProductID (int, NOT NULL, Foreign Key)\n",
            "Quantity (int, NOT NULL)\n",
            "\n",
            "Table: Customers\n",
            "\n",
            "Columns: \n",
            "CustomerID (int, NOT NULL, Primary Key)\n",
            "FirstName (varchar(50), NOT NULL)\n",
            "LastName (varchar(50), NOT NULL)\n",
            "Address (varchar(255), NULL)\n",
            "City (varchar(50), NULL)\n",
            "State (varchar(50), NULL)\n",
            "Zip (varchar(50), NULL)\n",
            "Email (varchar(50), NOT NULL)\n"
          ]
        }
      ]
    },
    {
      "cell_type": "code",
      "source": [
        "print(type(output))"
      ],
      "metadata": {
        "id": "V_muIMUWfhbo",
        "colab": {
          "base_uri": "https://localhost:8080/"
        },
        "outputId": "211c8c0a-8261-435e-dc7f-0c0012a12f67"
      },
      "execution_count": null,
      "outputs": [
        {
          "output_type": "stream",
          "name": "stdout",
          "text": [
            "<class 'str'>\n"
          ]
        }
      ]
    }
  ]
}