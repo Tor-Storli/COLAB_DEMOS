{
  "nbformat": 4,
  "nbformat_minor": 0,
  "metadata": {
    "colab": {
      "provenance": [],
      "authorship_tag": "ABX9TyPOR6H+JK/Vk3KEZk2L7emu",
      "include_colab_link": true
    },
    "kernelspec": {
      "name": "python3",
      "display_name": "Python 3"
    },
    "language_info": {
      "name": "python"
    }
  },
  "cells": [
    {
      "cell_type": "markdown",
      "metadata": {
        "id": "view-in-github",
        "colab_type": "text"
      },
      "source": [
        "<a href=\"https://colab.research.google.com/github/Tor-Storli/COLAB_DEMOS/blob/master/Speach2Text_Part1.ipynb\" target=\"_parent\"><img src=\"https://colab.research.google.com/assets/colab-badge.svg\" alt=\"Open In Colab\"/></a>"
      ]
    },
    {
      "cell_type": "markdown",
      "source": [
        "## Install pytube library"
      ],
      "metadata": {
        "id": "x7yHSigiEmuv"
      }
    },
    {
      "cell_type": "code",
      "source": [
        "!pip install --upgrade \"git+https://github.com/nficano/pytube.git\""
      ],
      "metadata": {
        "colab": {
          "base_uri": "https://localhost:8080/"
        },
        "id": "WWpfLCijEhAT",
        "outputId": "e9049c01-647b-485b-a306-134704cd9911"
      },
      "execution_count": null,
      "outputs": [
        {
          "output_type": "stream",
          "name": "stdout",
          "text": [
            "Looking in indexes: https://pypi.org/simple, https://us-python.pkg.dev/colab-wheels/public/simple/\n",
            "Collecting git+https://github.com/nficano/pytube.git\n",
            "  Cloning https://github.com/nficano/pytube.git to /tmp/pip-req-build-88lp4lhp\n",
            "  Running command git clone --filter=blob:none --quiet https://github.com/nficano/pytube.git /tmp/pip-req-build-88lp4lhp\n",
            "  Resolved https://github.com/nficano/pytube.git to commit d3d18691b3e99b2d3b4d620446b088a1c32896c6\n",
            "  Preparing metadata (setup.py) ... \u001b[?25l\u001b[?25hdone\n"
          ]
        }
      ]
    },
    {
      "cell_type": "markdown",
      "source": [
        "## Import pytube library"
      ],
      "metadata": {
        "id": "NBGOeE8SEotQ"
      }
    },
    {
      "cell_type": "code",
      "execution_count": null,
      "metadata": {
        "id": "YCEwMc8ZEay_"
      },
      "outputs": [],
      "source": [
        "from pytube import YouTube"
      ]
    },
    {
      "cell_type": "markdown",
      "source": [
        "## Download a video from YouTube in your runtime environment"
      ],
      "metadata": {
        "id": "Bzaab6AHEguD"
      }
    },
    {
      "cell_type": "code",
      "source": [
        "# video_url = 'https://www.youtube.com/watch?v=WH3is_Bm3GQ&t=3s'\n",
        "video_url = 'https://www.youtube.com/watch?v=11zc2hPdMls'\n",
        "\n",
        "filepath = 'YouTube'\n",
        "\n",
        "youtube = YouTube(video_url)\n",
        "\n",
        "for stream in youtube.streams:\n",
        "    print(stream.resolution)"
      ],
      "metadata": {
        "colab": {
          "base_uri": "https://localhost:8080/"
        },
        "id": "GC7NtR_3Fa2T",
        "outputId": "d86fc00c-8edc-4842-e70f-ed405cb9763b"
      },
      "execution_count": null,
      "outputs": [
        {
          "output_type": "stream",
          "name": "stdout",
          "text": [
            "144p\n",
            "360p\n",
            "720p\n",
            "1080p\n",
            "360p\n",
            "None\n",
            "None\n",
            "None\n"
          ]
        }
      ]
    },
    {
      "cell_type": "code",
      "source": [
        "youtube.streams.filter(res=\"360p\").first().download(filepath, skip_existing=True)"
      ],
      "metadata": {
        "colab": {
          "base_uri": "https://localhost:8080/",
          "height": 36
        },
        "id": "iWokBuG4jhub",
        "outputId": "1f796900-aea0-477e-de3a-1b17f295f686"
      },
      "execution_count": null,
      "outputs": [
        {
          "output_type": "execute_result",
          "data": {
            "text/plain": [
              "'/content/YouTube/Stock Data Auto Refresh.mp4'"
            ],
            "application/vnd.google.colaboratory.intrinsic+json": {
              "type": "string"
            }
          },
          "metadata": {},
          "execution_count": 30
        }
      ]
    },
    {
      "cell_type": "markdown",
      "source": [
        "## Mount Google Drive"
      ],
      "metadata": {
        "id": "y_e5eAQlGU3z"
      }
    },
    {
      "cell_type": "code",
      "source": [
        "from google.colab import drive\n",
        "drive.mount('/content/drive')"
      ],
      "metadata": {
        "colab": {
          "base_uri": "https://localhost:8080/"
        },
        "id": "z1x8SfrXGTuE",
        "outputId": "e57716a1-30a1-4752-800e-0370d48de996"
      },
      "execution_count": null,
      "outputs": [
        {
          "output_type": "stream",
          "name": "stdout",
          "text": [
            "Drive already mounted at /content/drive; to attempt to forcibly remount, call drive.mount(\"/content/drive\", force_remount=True).\n"
          ]
        }
      ]
    },
    {
      "cell_type": "markdown",
      "source": [
        "## Create a new folder on your Google Drive"
      ],
      "metadata": {
        "id": "0I_wDjQNHjKY"
      }
    },
    {
      "cell_type": "code",
      "source": [
        "import os\n",
        "\n",
        "# Define the name of the new directory\n",
        "dir_name = 'YouTube'\n",
        "\n",
        "# Define the path of the new directory in Google Drive\n",
        "dir_path = '/content/drive/MyDrive/' + dir_name\n",
        "\n",
        "# Create the new directory in Google Drive\n",
        "if not os.path.exists(dir_path):\n",
        "    os.makedirs(dir_path)\n",
        "\n",
        "print(dir_path)"
      ],
      "metadata": {
        "id": "qW7pQrQ2GT0t",
        "colab": {
          "base_uri": "https://localhost:8080/"
        },
        "outputId": "08b4bce4-2b24-4ec0-a7e9-42c4f0918548"
      },
      "execution_count": null,
      "outputs": [
        {
          "output_type": "stream",
          "name": "stdout",
          "text": [
            "/content/drive/MyDrive/YouTube\n"
          ]
        }
      ]
    },
    {
      "cell_type": "markdown",
      "source": [
        "## Copy Runtime downloaded video into Google Drive to preserve it "
      ],
      "metadata": {
        "id": "xbUmsj1MHqZm"
      }
    },
    {
      "cell_type": "code",
      "source": [
        "import shutil\n",
        "\n",
        "# Define the path of the file to copy\n",
        "# runtime_file = '/content/YouTube/QGIS App Scaling High DPI Fix on Windows.mp4'\n",
        "\n",
        "# Define the path of the copied file in Google Drive\n",
        "# new_file_path = dir_path + '/QGIS App Scaling High DPI Fix on Windows.mp4'\n",
        "\n",
        "# Define the path of the file to copy\n",
        "runtime_file = '/content/YouTube/Stock Data Auto Refresh.mp4'\n",
        "\n",
        "# Define the path of the copied file in Google Drive\n",
        "new_file_path = dir_path + '/Stock Data Auto Refresh.mp4'\n",
        "\n",
        "# Copy the file to the new directory in Google Drive\n",
        "shutil.copy(runtime_file, new_file_path)\n"
      ],
      "metadata": {
        "colab": {
          "base_uri": "https://localhost:8080/",
          "height": 36
        },
        "id": "sGG_Ra15GT8L",
        "outputId": "1feb0ae9-8e8a-4c05-981b-a35f13eff7b0"
      },
      "execution_count": null,
      "outputs": [
        {
          "output_type": "execute_result",
          "data": {
            "text/plain": [
              "'/content/drive/MyDrive/YouTube/Stock Data Auto Refresh.mp4'"
            ],
            "application/vnd.google.colaboratory.intrinsic+json": {
              "type": "string"
            }
          },
          "metadata": {},
          "execution_count": 31
        }
      ]
    },
    {
      "cell_type": "markdown",
      "source": [
        "## END OF CODE"
      ],
      "metadata": {
        "id": "3y9ZJxmDEgwi"
      }
    }
  ]
}