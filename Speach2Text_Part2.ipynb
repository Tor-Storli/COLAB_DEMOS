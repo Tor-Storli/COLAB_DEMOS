{
  "cells": [
    {
      "cell_type": "markdown",
      "metadata": {
        "id": "view-in-github",
        "colab_type": "text"
      },
      "source": [
        "<a href=\"https://colab.research.google.com/github/Tor-Storli/COLAB_DEMOS/blob/master/Speach2Text_Part2.ipynb\" target=\"_parent\"><img src=\"https://colab.research.google.com/assets/colab-badge.svg\" alt=\"Open In Colab\"/></a>"
      ]
    },
    {
      "cell_type": "markdown",
      "metadata": {
        "id": "dXF5dYuyqqpB"
      },
      "source": [
        "## Install OpenAI's Whisper and the related ffmpeg libraries"
      ]
    },
    {
      "cell_type": "code",
      "execution_count": null,
      "metadata": {
        "id": "vCPmzYmDpiX5"
      },
      "outputs": [],
      "source": [
        "!pip install git+https://github.com/openai/whisper.git \n",
        "!sudo apt update && sudo apt install ffmpeg"
      ]
    },
    {
      "cell_type": "markdown",
      "metadata": {
        "id": "GjmINo_Zry9u"
      },
      "source": [
        "## Install openAI libraries"
      ]
    },
    {
      "cell_type": "code",
      "execution_count": null,
      "metadata": {
        "id": "W8JwZCxb3acu"
      },
      "outputs": [],
      "source": [
        "!pip install openai"
      ]
    },
    {
      "cell_type": "markdown",
      "metadata": {
        "id": "ruMgxQbB3uAo"
      },
      "source": [
        "## Import openAI libraries"
      ]
    },
    {
      "cell_type": "code",
      "execution_count": null,
      "metadata": {
        "id": "QbxFn1tkxnXD"
      },
      "outputs": [],
      "source": [
        "import openai"
      ]
    },
    {
      "cell_type": "markdown",
      "metadata": {
        "id": "smahOzO74LKy"
      },
      "source": [
        "## Mount Google Drive"
      ]
    },
    {
      "cell_type": "code",
      "source": [
        "from google.colab import drive\n",
        "drive.mount('/content/drive')\n"
      ],
      "metadata": {
        "colab": {
          "base_uri": "https://localhost:8080/"
        },
        "id": "d9Z1MlnTLnll",
        "outputId": "0214f31e-53e6-4a7a-976b-aa7c3e0a8a93"
      },
      "execution_count": null,
      "outputs": [
        {
          "output_type": "stream",
          "name": "stdout",
          "text": [
            "Mounted at /content/drive\n"
          ]
        }
      ]
    },
    {
      "cell_type": "markdown",
      "source": [
        "## Define the path of the file in Google Drive and copy the file into Runtime Environment"
      ],
      "metadata": {
        "id": "ei38UhoRNUDr"
      }
    },
    {
      "cell_type": "code",
      "source": [
        "import os\n",
        "\n",
        "# filename = 'QGIS App Scaling High DPI Fix on Windows.mp4'\n",
        "filename = 'Stock Data Auto Refresh.mp4'\n",
        "\n",
        "# Define the path of the file in Google Drive\n",
        "file_path = '/content/drive/MyDrive/YouTube' + '/' + filename\n",
        "\n",
        "# Define the path of the temporary folder in your Runtime environment\n",
        "temp_folder_path = '/content/YouTube'\n"
      ],
      "metadata": {
        "id": "5hcoAPLyLtdW"
      },
      "execution_count": null,
      "outputs": []
    },
    {
      "cell_type": "markdown",
      "source": [
        "## Create a temporary directory on this runtime"
      ],
      "metadata": {
        "id": "TqDMZARALtRK"
      }
    },
    {
      "cell_type": "code",
      "source": [
        "if not os.path.exists(temp_folder_path):\n",
        "    os.makedirs(temp_folder_path)\n"
      ],
      "metadata": {
        "id": "abwkHMDFNFDq"
      },
      "execution_count": null,
      "outputs": []
    },
    {
      "cell_type": "markdown",
      "source": [
        "## Copy video file from Google Drive into temporary Runtime folder"
      ],
      "metadata": {
        "id": "iDP4U2i2Lto3"
      }
    },
    {
      "cell_type": "code",
      "source": [
        "import shutil\n",
        "\n",
        "# Define the path of the copied file in the temporary folder\n",
        "temp_file_path = os.path.join(temp_folder_path, filename)\n",
        "\n",
        "# Copy the file from Google Drive to the temporary folder\n",
        "shutil.copyfile(file_path, temp_file_path)"
      ],
      "metadata": {
        "colab": {
          "base_uri": "https://localhost:8080/",
          "height": 36
        },
        "id": "NvPpqaZcLtzp",
        "outputId": "850b3631-9edc-4136-ad6e-e14f6f650a00"
      },
      "execution_count": null,
      "outputs": [
        {
          "output_type": "execute_result",
          "data": {
            "text/plain": [
              "'/content/YouTube/Stock Data Auto Refresh.mp4'"
            ],
            "application/vnd.google.colaboratory.intrinsic+json": {
              "type": "string"
            }
          },
          "metadata": {},
          "execution_count": 11
        }
      ]
    },
    {
      "cell_type": "markdown",
      "metadata": {
        "id": "SiaOwK_Qxosq"
      },
      "source": [
        "## Transform the video's audio into text using OpenAI's Whisper"
      ]
    },
    {
      "cell_type": "code",
      "execution_count": null,
      "metadata": {
        "id": "Z9v5WzoMvvfe",
        "colab": {
          "base_uri": "https://localhost:8080/"
        },
        "outputId": "a85cfcd7-1900-43ab-bd8f-d22f962bf070"
      },
      "outputs": [
        {
          "output_type": "stream",
          "name": "stdout",
          "text": [
            "2023-03-03 19:27:55.147880: I tensorflow/core/platform/cpu_feature_guard.cc:193] This TensorFlow binary is optimized with oneAPI Deep Neural Network Library (oneDNN) to use the following CPU instructions in performance-critical operations:  AVX2 AVX512F FMA\n",
            "To enable them in other operations, rebuild TensorFlow with the appropriate compiler flags.\n",
            "2023-03-03 19:27:56.153284: W tensorflow/compiler/xla/stream_executor/platform/default/dso_loader.cc:64] Could not load dynamic library 'libnvinfer.so.7'; dlerror: libnvinfer.so.7: cannot open shared object file: No such file or directory; LD_LIBRARY_PATH: /usr/lib64-nvidia\n",
            "2023-03-03 19:27:56.153411: W tensorflow/compiler/xla/stream_executor/platform/default/dso_loader.cc:64] Could not load dynamic library 'libnvinfer_plugin.so.7'; dlerror: libnvinfer_plugin.so.7: cannot open shared object file: No such file or directory; LD_LIBRARY_PATH: /usr/lib64-nvidia\n",
            "2023-03-03 19:27:56.153434: W tensorflow/compiler/tf2tensorrt/utils/py_utils.cc:38] TF-TRT Warning: Cannot dlopen some TensorRT libraries. If you would like to use Nvidia GPU with TensorRT, please make sure the missing libraries mentioned above are installed properly.\n",
            "[00:00.000 --> 00:15.000]  Hi, everybody.\n",
            "[00:15.000 --> 00:17.800]  Welcome back to this new video.\n",
            "[00:17.800 --> 00:21.960]  Today, I thought I'll show you how you can work with\n",
            "[00:21.960 --> 00:26.280]  stock data in Excel and set up\n",
            "[00:26.280 --> 00:31.040]  some basic table structures and then show you how you can\n",
            "[00:31.040 --> 00:37.160]  refresh automatically every so often with VBA.\n",
            "[00:37.160 --> 00:38.760]  Let's get started.\n",
            "[00:38.760 --> 00:41.960]  What I have here is a blank workbook.\n",
            "[00:41.960 --> 00:44.440]  What I want to do first is I want to copy\n",
            "[00:44.440 --> 00:48.160]  some headers in and put it into this workbook.\n",
            "[00:48.160 --> 00:51.680]  Let me do that, and I'm going to put them here.\n",
            "[00:51.680 --> 00:54.200]  These are the basic header we want to use.\n",
            "[00:54.200 --> 00:57.360]  I'm going to select this and actually,\n",
            "[00:57.360 --> 01:01.600]  I'm going to select these and I'm going to say,\n",
            "[01:01.600 --> 01:05.440]  let's make the column width maybe 18.\n",
            "[01:05.440 --> 01:07.840]  This one here can be a little\n",
            "[01:07.840 --> 01:10.360]  bigger because it's a little more text.\n",
            "[01:10.360 --> 01:12.480]  Let's set that to maybe,\n",
            "[01:12.480 --> 01:15.600]  I don't know, 25. Let's try that.\n",
            "[01:15.600 --> 01:19.160]  What I want to do is I want to get some stock data.\n",
            "[01:19.160 --> 01:22.000]  What I'm going to do is I'm going to type in some tickers,\n",
            "[01:22.000 --> 01:23.720]  some symbols, and let's see,\n",
            "[01:23.720 --> 01:27.480]  I'm going to pick Abbott Laboratories.\n",
            "[01:27.480 --> 01:30.640]  Let me do caps here so I can.\n",
            "[01:30.640 --> 01:34.600]  What I want to do now is I want to simply select these guys.\n",
            "[01:34.600 --> 01:36.280]  I want to go into data.\n",
            "[01:36.280 --> 01:38.080]  I want to pick stocks,\n",
            "[01:38.080 --> 01:40.800]  and it will churn up and it will find\n",
            "[01:40.800 --> 01:44.400]  the information about these stock listings.\n",
            "[01:44.400 --> 01:46.040]  As you can see here,\n",
            "[01:46.040 --> 01:48.080]  here is the tickers,\n",
            "[01:48.080 --> 01:51.080]  but now they've been translated into actual stock data.\n",
            "[01:51.080 --> 01:53.400]  If you see over here, you have this little plus button.\n",
            "[01:53.400 --> 01:55.280]  You can click on that and you can choose\n",
            "[01:55.280 --> 01:58.000]  all kinds of data from these companies.\n",
            "[01:58.000 --> 02:00.440]  The one I'm going to be using here is this price,\n",
            "[02:00.440 --> 02:02.200]  so it puts the price in here.\n",
            "[02:02.200 --> 02:04.800]  Now all I have to do, I can just copy this.\n",
            "[02:04.800 --> 02:07.840]  This is the current price as of right now.\n",
            "[02:07.840 --> 02:09.880]  If you look at it, it refers to A2,\n",
            "[02:09.880 --> 02:12.440]  which is this cell, then just the price.\n",
            "[02:12.440 --> 02:13.640]  If you want different ones,\n",
            "[02:13.640 --> 02:16.760]  you could actually basically backspace this.\n",
            "[02:16.760 --> 02:19.760]  You can see here, you can pick whatever you want here.\n",
            "[02:19.760 --> 02:22.520]  These are the type of attributes available to you.\n",
            "[02:22.520 --> 02:24.200]  But the one I chose was price,\n",
            "[02:24.200 --> 02:26.160]  so that's what I'm going to stick with for here.\n",
            "[02:26.160 --> 02:28.160]  Now we've got the current price.\n",
            "[02:28.160 --> 02:31.960]  It might also be a good idea to know when you last refreshed this,\n",
            "[02:31.960 --> 02:34.360]  so you know when it was updated.\n",
            "[02:34.360 --> 02:39.440]  I'm going to use the built-in function now in Excel.\n",
            "[02:39.440 --> 02:43.360]  I hit that, and I don't like this format,\n",
            "[02:43.360 --> 02:46.280]  but let me fix that.\n",
            "[02:46.280 --> 02:48.680]  I use a custom format here,\n",
            "[02:48.680 --> 02:50.800]  so let me add seconds to this one.\n",
            "[02:50.800 --> 02:54.600]  I'll do colon SS like this and say, okay.\n",
            "[02:54.600 --> 02:56.560]  Now I'll just copy that down.\n",
            "[02:56.560 --> 03:02.800]  The purchase price is whatever price you bought the stock for.\n",
            "[03:02.800 --> 03:04.880]  This is the current price as of right now.\n",
            "[03:04.880 --> 03:07.680]  But whatever you bought your number of shares for,\n",
            "[03:07.680 --> 03:10.240]  that's the one you want to put into this purchase price.\n",
            "[03:10.240 --> 03:14.520]  Now I happen to have just made up some numbers here,\n",
            "[03:14.520 --> 03:16.000]  so I'm just going to copy those.\n",
            "[03:16.000 --> 03:18.400]  I don't have to type in over and over again here.\n",
            "[03:18.400 --> 03:22.320]  Let me just go in and paste the values here.\n",
            "[03:22.320 --> 03:24.160]  Number of shares, same thing.\n",
            "[03:24.160 --> 03:26.040]  I just made it up.\n",
            "[03:26.040 --> 03:28.960]  Let me just copy some values for that,\n",
            "[03:28.960 --> 03:30.760]  so we have something to go by.\n",
            "[03:30.760 --> 03:32.680]  Here's the number of shares.\n",
            "[03:32.680 --> 03:35.560]  Pretend you bought this many shares for this price.\n",
            "[03:35.560 --> 03:37.720]  That's what we're saying. Now we can\n",
            "[03:37.720 --> 03:40.480]  calculate what is the current market value of this,\n",
            "[03:40.480 --> 03:43.920]  and we can do that by using this formula here.\n",
            "[03:43.920 --> 03:45.400]  If I take column B,\n",
            "[03:45.400 --> 03:46.840]  which is the current price,\n",
            "[03:46.840 --> 03:49.280]  times column E, which is the number of shares,\n",
            "[03:49.280 --> 03:51.560]  and I hit Enter, you can see here,\n",
            "[03:51.560 --> 03:53.440]  I'm getting the current market value.\n",
            "[03:53.440 --> 03:55.760]  I can do the same thing with the current cost.\n",
            "[03:55.760 --> 03:58.680]  You can see I'm taking D times E,\n",
            "[03:58.680 --> 04:00.560]  that will give me the current cost.\n",
            "[04:00.560 --> 04:03.560]  Now what I can do is I can compute the difference,\n",
            "[04:03.560 --> 04:06.760]  which will be the, let me copy this format while I have it.\n",
            "[04:06.760 --> 04:08.960]  The profit would be simply equal to\n",
            "[04:08.960 --> 04:12.400]  the market value minus the cost.\n",
            "[04:12.400 --> 04:14.640]  Now we got the values.\n",
            "[04:14.640 --> 04:17.560]  What I want to do is I want to just turn this into a table,\n",
            "[04:17.560 --> 04:18.840]  so it'll be a little easier.\n",
            "[04:18.840 --> 04:20.720]  I'm going to choose this and I'm going to say,\n",
            "[04:20.720 --> 04:24.040]  okay, copy this down.\n",
            "[04:24.040 --> 04:26.960]  Let me just copy it all down here like this.\n",
            "[04:26.960 --> 04:29.760]  Now I got the values I need here.\n",
            "[04:29.760 --> 04:31.400]  If you look at here,\n",
            "[04:31.400 --> 04:33.960]  that's the last time we refreshed it.\n",
            "[04:33.960 --> 04:36.320]  What we're doing here is it's\n",
            "[04:36.320 --> 04:39.600]  equivalent to going into data and say refresh all,\n",
            "[04:39.600 --> 04:41.280]  and you're going to see the date change and\n",
            "[04:41.280 --> 04:44.040]  the current price probably changes too.\n",
            "[04:44.040 --> 04:46.760]  Here's running and you can see they all\n",
            "[04:46.760 --> 04:48.960]  will update it as of this date.\n",
            "[04:48.960 --> 04:53.920]  Now we have the actual layout of this stock table.\n",
            "[04:53.920 --> 04:58.000]  I'm going to add some code to this.\n",
            "[04:58.000 --> 05:00.000]  First of all, you can name this\n",
            "[05:00.000 --> 05:02.200]  whatever you want and the workbook whatever you want.\n",
            "[05:02.200 --> 05:05.440]  I'm going to open up a new VBA module hitting\n",
            "[05:05.440 --> 05:09.080]  Alt F11 and it shows up like this,\n",
            "[05:09.080 --> 05:12.640]  and I'm going to just add a new module to this.\n",
            "[05:12.640 --> 05:19.120]  Let me insert a module and let's call this module.\n",
            "[05:19.120 --> 05:22.960]  Refresh module, then I have some code here I'm going to just add.\n",
            "[05:22.960 --> 05:25.960]  When you first start this Excel macro workbook,\n",
            "[05:25.960 --> 05:29.480]  you want to be in this workbook tab, if you will.\n",
            "[05:29.480 --> 05:31.720]  You want to go under this workbook\n",
            "[05:31.720 --> 05:34.280]  and you want on the open event like this.\n",
            "[05:34.280 --> 05:37.400]  I'm going to delete this and just paste my code in.\n",
            "[05:37.400 --> 05:40.320]  As you can see, I use an option explicit statement\n",
            "[05:40.320 --> 05:42.240]  just to prevent errors from happening.\n",
            "[05:42.240 --> 05:45.520]  This is the private sub workbook open event.\n",
            "[05:45.520 --> 05:48.520]  I'm basically going to take this active workbook,\n",
            "[05:48.520 --> 05:50.680]  I'm in here and refresh all.\n",
            "[05:50.680 --> 05:52.800]  That's a command that will refresh the data.\n",
            "[05:52.800 --> 06:00.160]  Then I have this next time setup to be the time plus the time serial.\n",
            "[06:00.160 --> 06:02.200]  Whatever the time is plus the time serial.\n",
            "[06:02.200 --> 06:04.640]  That would be now plus,\n",
            "[06:04.640 --> 06:07.880]  you can see here hours, minutes, and seconds.\n",
            "[06:07.880 --> 06:10.920]  This is hours, this is minutes, and this is seconds.\n",
            "[06:10.920 --> 06:15.960]  I have set the refresh value to be 20 seconds from now,\n",
            "[06:15.960 --> 06:17.360]  basically is what I say.\n",
            "[06:17.360 --> 06:20.000]  Then I use the application object,\n",
            "[06:20.000 --> 06:21.560]  the on time event,\n",
            "[06:21.560 --> 06:24.040]  and I set it equal to this next time.\n",
            "[06:24.040 --> 06:25.560]  What happens then?\n",
            "[06:25.560 --> 06:31.400]  This application timer is going to fire this particular routine,\n",
            "[06:31.400 --> 06:35.760]  this sub 20 seconds after it's been refreshed the last time.\n",
            "[06:35.760 --> 06:37.200]  It's calling this macro,\n",
            "[06:37.200 --> 06:39.040]  so we need a second macro.\n",
            "[06:39.040 --> 06:41.720]  I'm going to grab the code for that,\n",
            "[06:41.720 --> 06:43.480]  which is pretty much identical.\n",
            "[06:43.480 --> 06:46.720]  Going into this refresh module, paste it.\n",
            "[06:46.720 --> 06:48.840]  As you can see, it looks pretty similar.\n",
            "[06:48.840 --> 06:52.640]  It's simply once the workbook open,\n",
            "[06:52.640 --> 06:55.280]  it will fire this routine so the timer starts,\n",
            "[06:55.280 --> 06:59.320]  and then it's going to call this particular macro the first time.\n",
            "[06:59.320 --> 07:04.560]  After that, this macro is going to keep calling itself every 20 seconds.\n",
            "[07:04.560 --> 07:07.560]  That way you keep it going every 20 seconds.\n",
            "[07:07.560 --> 07:09.960]  Of course, you can change this to whatever you want it to be.\n",
            "[07:09.960 --> 07:16.000]  Now I'm going to save this and I'm going to make this a macro-based workbook.\n",
            "[07:16.000 --> 07:20.040]  Let's just call it something like this and I'll save it.\n",
            "[07:20.040 --> 07:22.120]  Now I'm going to close this and open it again.\n",
            "[07:22.120 --> 07:23.880]  Let's see what happens.\n",
            "[07:23.880 --> 07:28.000]  I closed it, open up a new instance of Excel.\n",
            "[07:28.000 --> 07:30.280]  Here it is. I select this.\n",
            "[07:30.280 --> 07:35.640]  I know it's wrong. I notice I did a mistake.\n",
            "[07:35.640 --> 07:37.840]  I should not have included this option explicit\n",
            "[07:37.840 --> 07:39.880]  because now it wants me to declare the variable,\n",
            "[07:39.880 --> 07:42.720]  so I don't want to do that. Let me remove that.\n",
            "[07:42.720 --> 07:44.520]  Now if you want to do this correct,\n",
            "[07:44.520 --> 07:46.800]  you need to figure out what kind of object this is\n",
            "[07:46.800 --> 07:49.840]  and do it then up here in order to do it.\n",
            "[07:49.840 --> 07:52.160]  But for the sake of saving some time here,\n",
            "[07:52.160 --> 07:53.640]  I'm just going to remove this.\n",
            "[07:53.640 --> 07:56.960]  Let me save that. Let me get out.\n",
            "[07:56.960 --> 08:02.120]  Let me save the workbook again and then close it and open it one more time.\n",
            "[08:02.120 --> 08:05.240]  I'm opening it up. There it goes.\n",
            "[08:05.240 --> 08:07.000]  You can see here's the timestamp.\n",
            "[08:07.000 --> 08:10.320]  It's 1,128.55, so keep\n",
            "[08:10.320 --> 08:13.760]  an eye on that timestamp and keep an eye on this current price here.\n",
            "[08:13.760 --> 08:16.120]  In 20 seconds, it's going to run again.\n",
            "[08:16.120 --> 08:17.840]  There it went. As you can see,\n",
            "[08:17.840 --> 08:20.120]  now it changed to 1,129.15.\n",
            "[08:20.120 --> 08:22.560]  As you can see, you can add to this.\n",
            "[08:22.560 --> 08:25.680]  You can add like an icon set and conditional formatting.\n",
            "[08:25.680 --> 08:29.760]  For example, we could go in here on this profit maybe.\n",
            "[08:29.760 --> 08:32.400]  We can do a conditional formatting.\n",
            "[08:32.400 --> 08:34.920]  Maybe we want to use icon set.\n",
            "[08:34.920 --> 08:38.120]  Let's say I choose these three shapes here.\n",
            "[08:38.120 --> 08:41.800]  Let me see if Manage Rules.\n",
            "[08:41.800 --> 08:46.040]  What I want to do is I want to edit this rule and I might want to say,\n",
            "[08:46.040 --> 08:48.560]  first of all, let's make this numbers.\n",
            "[08:48.560 --> 08:52.280]  What I want to say if it's greater than zero,\n",
            "[08:52.280 --> 08:53.960]  then I want it to be green.\n",
            "[08:53.960 --> 08:56.640]  If it's greater or equal to zero,\n",
            "[08:56.640 --> 08:58.760]  meaning if it is zero,\n",
            "[08:58.760 --> 08:59.800]  it becomes the yellow one.\n",
            "[08:59.800 --> 09:01.960]  If it's less than zero, it becomes red.\n",
            "[09:01.960 --> 09:05.840]  Let's apply that and say,\n",
            "[09:05.840 --> 09:11.320]  okay, and let's copy this across all of this.\n",
            "[09:11.320 --> 09:15.400]  Right now, it all seems to be positive.\n",
            "[09:15.400 --> 09:17.960]  Let me change the purchase price maybe on this one.\n",
            "[09:17.960 --> 09:21.440]  Let's make this 1,350 or something.\n",
            "[09:21.440 --> 09:23.760]  As you can see now, it went red.\n",
            "[09:23.760 --> 09:27.120]  Yeah, so you can apply a conditional formatting as well here.\n",
            "[09:27.120 --> 09:29.400]  That's how this one works.\n",
            "[09:29.400 --> 09:32.080]  As you can see, it keeps updating every 20 seconds.\n",
            "[09:32.080 --> 09:36.160]  I hope you like this video and subscribe,\n",
            "[09:36.160 --> 09:37.640]  like if you do,\n",
            "[09:37.640 --> 10:01.280]  and I look forward to see you again soon. Thank you.\n"
          ]
        }
      ],
      "source": [
        "# !whisper '/content/YouTube/QGIS App Scaling High DPI Fix on Windows.mp4' --model medium.en\n",
        "!whisper '/content/YouTube/Stock Data Auto Refresh.mp4' --model medium.en"
      ]
    },
    {
      "cell_type": "markdown",
      "metadata": {
        "id": "xVaBmQ8W39gt"
      },
      "source": [
        "## Get Your security token for the openAI APIs"
      ]
    },
    {
      "cell_type": "markdown",
      "source": [],
      "metadata": {
        "id": "JM5PFAnK6Xwl"
      }
    },
    {
      "cell_type": "markdown",
      "source": [
        "## Open text file that contains your openai key"
      ],
      "metadata": {
        "id": "tPJyXtpbSCBM"
      }
    },
    {
      "cell_type": "code",
      "execution_count": null,
      "metadata": {
        "id": "xtleSNAyxwSv"
      },
      "outputs": [],
      "source": [
        "# Open text file that contains your openai key\n",
        "def get_GTP3_key(filename):\n",
        "    with open(filename, 'r', encoding='utf-8') as GTP3keyfile:\n",
        "        return GTP3keyfile.read()"
      ]
    },
    {
      "cell_type": "markdown",
      "source": [
        "## Load the openai key into the openai module api_key string variable"
      ],
      "metadata": {
        "id": "Mr2Y0eAXK71d"
      }
    },
    {
      "cell_type": "code",
      "execution_count": null,
      "metadata": {
        "id": "epEmKjRL18Xo"
      },
      "outputs": [],
      "source": [
        "openai.api_key = get_GTP3_key('GPT3_Key.txt')"
      ]
    },
    {
      "cell_type": "markdown",
      "metadata": {
        "id": "hnt0XdHg4dZ6"
      },
      "source": [
        "## Read the content of the YouTube Whisper translated output and return it to caller"
      ]
    },
    {
      "cell_type": "code",
      "execution_count": null,
      "metadata": {
        "id": "9CQBbfPq5Blt"
      },
      "outputs": [],
      "source": [
        "def get_YoutubeFile(filename):\n",
        "    with open(filename, 'r', encoding='utf-8') as ytfile:\n",
        "        return ytfile.read()"
      ]
    },
    {
      "cell_type": "markdown",
      "metadata": {
        "id": "PpYtzHph5rN-"
      },
      "source": [
        "## Load the YouTube file content into a string variable"
      ]
    },
    {
      "cell_type": "code",
      "execution_count": null,
      "metadata": {
        "id": "NzosoGyI5rhU",
        "colab": {
          "base_uri": "https://localhost:8080/"
        },
        "outputId": "e439614c-a544-4cbf-fc30-5394eed87295"
      },
      "outputs": [
        {
          "output_type": "stream",
          "name": "stdout",
          "text": [
            "Hi, everybody.\n",
            "Welcome back to this new video.\n",
            "Today, I thought I'll show you how you can work with\n",
            "stock data in Excel and set up\n",
            "some basic table structures and then show you how you can\n",
            "refresh automatically every so often with VBA.\n",
            "Let's get started.\n",
            "What I have here is a blank workbook.\n",
            "What I want to do first is I want to copy\n",
            "some headers in and put it into this workbook.\n",
            "Let me do that, and I'm going to put them here.\n",
            "These are the basic header we want to use.\n",
            "I'm going to select this and actually,\n",
            "I'm going to select these and I'm going to say,\n",
            "let's make the column width maybe 18.\n",
            "This one here can be a little\n",
            "bigger because it's a little more text.\n",
            "Let's set that to maybe,\n",
            "I don't know, 25. Let's try that.\n",
            "What I want to do is I want to get some stock data.\n",
            "What I'm going to do is I'm going to type in some tickers,\n",
            "some symbols, and let's see,\n",
            "I'm going to pick Abbott Laboratories.\n",
            "Let me do caps here so I can.\n",
            "What I want to do now is I want to simply select these guys.\n",
            "I want to go into data.\n",
            "I want to pick stocks,\n",
            "and it will churn up and it will find\n",
            "the information about these stock listings.\n",
            "As you can see here,\n",
            "here is the tickers,\n",
            "but now they've been translated into actual stock data.\n",
            "If you see over here, you have this little plus button.\n",
            "You can click on that and you can choose\n",
            "all kinds of data from these companies.\n",
            "The one I'm going to be using here is this price,\n",
            "so it puts the price in here.\n",
            "Now all I have to do, I can just copy this.\n",
            "This is the current price as of right now.\n",
            "If you look at it, it refers to A2,\n",
            "which is this cell, then just the price.\n",
            "If you want different ones,\n",
            "you could actually basically backspace this.\n",
            "You can see here, you can pick whatever you want here.\n",
            "These are the type of attributes available to you.\n",
            "But the one I chose was price,\n",
            "so that's what I'm going to stick with for here.\n",
            "Now we've got the current price.\n",
            "It might also be a good idea to know when you last refreshed this,\n",
            "so you know when it was updated.\n",
            "I'm going to use the built-in function now in Excel.\n",
            "I hit that, and I don't like this format,\n",
            "but let me fix that.\n",
            "I use a custom format here,\n",
            "so let me add seconds to this one.\n",
            "I'll do colon SS like this and say, okay.\n",
            "Now I'll just copy that down.\n",
            "The purchase price is whatever price you bought the stock for.\n",
            "This is the current price as of right now.\n",
            "But whatever you bought your number of shares for,\n",
            "that's the one you want to put into this purchase price.\n",
            "Now I happen to have just made up some numbers here,\n",
            "so I'm just going to copy those.\n",
            "I don't have to type in over and over again here.\n",
            "Let me just go in and paste the values here.\n",
            "Number of shares, same thing.\n",
            "I just made it up.\n",
            "Let me just copy some values for that,\n",
            "so we have something to go by.\n",
            "Here's the number of shares.\n",
            "Pretend you bought this many shares for this price.\n",
            "That's what we're saying. Now we can\n",
            "calculate what is the current market value of this,\n",
            "and we can do that by using this formula here.\n",
            "If I take column B,\n",
            "which is the current price,\n",
            "times column E, which is the number of shares,\n",
            "and I hit Enter, you can see here,\n",
            "I'm getting the current market value.\n",
            "I can do the same thing with the current cost.\n",
            "You can see I'm taking D times E,\n",
            "that will give me the current cost.\n",
            "Now what I can do is I can compute the difference,\n",
            "which will be the, let me copy this format while I have it.\n",
            "The profit would be simply equal to\n",
            "the market value minus the cost.\n",
            "Now we got the values.\n",
            "What I want to do is I want to just turn this into a table,\n",
            "so it'll be a little easier.\n",
            "I'm going to choose this and I'm going to say,\n",
            "okay, copy this down.\n",
            "Let me just copy it all down here like this.\n",
            "Now I got the values I need here.\n",
            "If you look at here,\n",
            "that's the last time we refreshed it.\n",
            "What we're doing here is it's\n",
            "equivalent to going into data and say refresh all,\n",
            "and you're going to see the date change and\n",
            "the current price probably changes too.\n",
            "Here's running and you can see they all\n",
            "will update it as of this date.\n",
            "Now we have the actual layout of this stock table.\n",
            "I'm going to add some code to this.\n",
            "First of all, you can name this\n",
            "whatever you want and the workbook whatever you want.\n",
            "I'm going to open up a new VBA module hitting\n",
            "Alt F11 and it shows up like this,\n",
            "and I'm going to just add a new module to this.\n",
            "Let me insert a module and let's call this module.\n",
            "Refresh module, then I have some code here I'm going to just add.\n",
            "When you first start this Excel macro workbook,\n",
            "you want to be in this workbook tab, if you will.\n",
            "You want to go under this workbook\n",
            "and you want on the open event like this.\n",
            "I'm going to delete this and just paste my code in.\n",
            "As you can see, I use an option explicit statement\n",
            "just to prevent errors from happening.\n",
            "This is the private sub workbook open event.\n",
            "I'm basically going to take this active workbook,\n",
            "I'm in here and refresh all.\n",
            "That's a command that will refresh the data.\n",
            "Then I have this next time setup to be the time plus the time serial.\n",
            "Whatever the time is plus the time serial.\n",
            "That would be now plus,\n",
            "you can see here hours, minutes, and seconds.\n",
            "This is hours, this is minutes, and this is seconds.\n",
            "I have set the refresh value to be 20 seconds from now,\n",
            "basically is what I say.\n",
            "Then I use the application object,\n",
            "the on time event,\n",
            "and I set it equal to this next time.\n",
            "What happens then?\n",
            "This application timer is going to fire this particular routine,\n",
            "this sub 20 seconds after it's been refreshed the last time.\n",
            "It's calling this macro,\n",
            "so we need a second macro.\n",
            "I'm going to grab the code for that,\n",
            "which is pretty much identical.\n",
            "Going into this refresh module, paste it.\n",
            "As you can see, it looks pretty similar.\n",
            "It's simply once the workbook open,\n",
            "it will fire this routine so the timer starts,\n",
            "and then it's going to call this particular macro the first time.\n",
            "After that, this macro is going to keep calling itself every 20 seconds.\n",
            "That way you keep it going every 20 seconds.\n",
            "Of course, you can change this to whatever you want it to be.\n",
            "Now I'm going to save this and I'm going to make this a macro-based workbook.\n",
            "Let's just call it something like this and I'll save it.\n",
            "Now I'm going to close this and open it again.\n",
            "Let's see what happens.\n",
            "I closed it, open up a new instance of Excel.\n",
            "Here it is. I select this.\n",
            "I know it's wrong. I notice I did a mistake.\n",
            "I should not have included this option explicit\n",
            "because now it wants me to declare the variable,\n",
            "so I don't want to do that. Let me remove that.\n",
            "Now if you want to do this correct,\n",
            "you need to figure out what kind of object this is\n",
            "and do it then up here in order to do it.\n",
            "But for the sake of saving some time here,\n",
            "I'm just going to remove this.\n",
            "Let me save that. Let me get out.\n",
            "Let me save the workbook again and then close it and open it one more time.\n",
            "I'm opening it up. There it goes.\n",
            "You can see here's the timestamp.\n",
            "It's 1,128.55, so keep\n",
            "an eye on that timestamp and keep an eye on this current price here.\n",
            "In 20 seconds, it's going to run again.\n",
            "There it went. As you can see,\n",
            "now it changed to 1,129.15.\n",
            "As you can see, you can add to this.\n",
            "You can add like an icon set and conditional formatting.\n",
            "For example, we could go in here on this profit maybe.\n",
            "We can do a conditional formatting.\n",
            "Maybe we want to use icon set.\n",
            "Let's say I choose these three shapes here.\n",
            "Let me see if Manage Rules.\n",
            "What I want to do is I want to edit this rule and I might want to say,\n",
            "first of all, let's make this numbers.\n",
            "What I want to say if it's greater than zero,\n",
            "then I want it to be green.\n",
            "If it's greater or equal to zero,\n",
            "meaning if it is zero,\n",
            "it becomes the yellow one.\n",
            "If it's less than zero, it becomes red.\n",
            "Let's apply that and say,\n",
            "okay, and let's copy this across all of this.\n",
            "Right now, it all seems to be positive.\n",
            "Let me change the purchase price maybe on this one.\n",
            "Let's make this 1,350 or something.\n",
            "As you can see now, it went red.\n",
            "Yeah, so you can apply a conditional formatting as well here.\n",
            "That's how this one works.\n",
            "As you can see, it keeps updating every 20 seconds.\n",
            "I hope you like this video and subscribe,\n",
            "like if you do,\n",
            "and I look forward to see you again soon. Thank you.\n",
            "\n"
          ]
        }
      ],
      "source": [
        "# text2summarize = get_YoutubeFile('/content/QGIS App Scaling High DPI Fix on Windows.mp4.txt')\n",
        "text2summarize = get_YoutubeFile('/content/Stock Data Auto Refresh.mp4.txt')\n",
        "print(text2summarize)"
      ]
    },
    {
      "cell_type": "markdown",
      "source": [
        "## Create a text-davinci-003 model that summarizes text"
      ],
      "metadata": {
        "id": "iW2M-xnvU1bO"
      }
    },
    {
      "cell_type": "code",
      "execution_count": null,
      "metadata": {
        "id": "QCaD8gOH4dly"
      },
      "outputs": [],
      "source": [
        "def call_openai_summarization(text2summarize):\n",
        "    response = openai.Completion.create(\n",
        "      model=\"text-davinci-003\",\n",
        "      prompt = text2summarize + '\\nTl;dr',   \n",
        "      temperature=0.7,\n",
        "      max_tokens=250,\n",
        "      top_p=1, \n",
        "      frequency_penalty=0,\n",
        "      presence_penalty=1\n",
        "    )\n",
        "    print(response)\n",
        "    text = response['choices'][0]['text'].strip()\n",
        "    return text"
      ]
    },
    {
      "cell_type": "markdown",
      "metadata": {
        "id": "X_G7uo8j4d9K"
      },
      "source": [
        "## Print out Whisper text and print out OpenAI Summary of Whisper text"
      ]
    },
    {
      "cell_type": "code",
      "execution_count": null,
      "metadata": {
        "id": "I_QIZIgZrCZ8",
        "colab": {
          "base_uri": "https://localhost:8080/"
        },
        "outputId": "6ffb3c55-0c33-47b0-9c17-4373a5ed01b1"
      },
      "outputs": [
        {
          "output_type": "stream",
          "name": "stdout",
          "text": [
            "{\n",
            "  \"choices\": [\n",
            "    {\n",
            "      \"finish_reason\": \"stop\",\n",
            "      \"index\": 0,\n",
            "      \"logprobs\": null,\n",
            "      \"text\": \"\\nIn this video, I showed viewers how to work with stock data in Excel by copying some headers into a blank workbook. I then used the built-in stock function to import data from various stocks and set up a table structure with prices, purchase prices, number of shares, and current market values. Finally, I wrote a VBA code to refresh the data automatically every 20 seconds.\"\n",
            "    }\n",
            "  ],\n",
            "  \"created\": 1677871925,\n",
            "  \"id\": \"cmpl-6q5QLRhDoAV3TH3e24sKI2NmZki9l\",\n",
            "  \"model\": \"text-davinci-003\",\n",
            "  \"object\": \"text_completion\",\n",
            "  \"usage\": {\n",
            "    \"completion_tokens\": 79,\n",
            "    \"prompt_tokens\": 2179,\n",
            "    \"total_tokens\": 2258\n",
            "  }\n",
            "}\n",
            "Original Whisper Text\n",
            "=================================================================\n",
            "Hi, everybody.\n",
            "Welcome back to this new video.\n",
            "Today, I thought I'll show you how you can work with\n",
            "stock data in Excel and set up\n",
            "some basic table structures and then show you how you can\n",
            "refresh automatically every so often with VBA.\n",
            "Let's get started.\n",
            "What I have here is a blank workbook.\n",
            "What I want to do first is I want to copy\n",
            "some headers in and put it into this workbook.\n",
            "Let me do that, and I'm going to put them here.\n",
            "These are the basic header we want to use.\n",
            "I'm going to select this and actually,\n",
            "I'm going to select these and I'm going to say,\n",
            "let's make the column width maybe 18.\n",
            "This one here can be a little\n",
            "bigger because it's a little more text.\n",
            "Let's set that to maybe,\n",
            "I don't know, 25. Let's try that.\n",
            "What I want to do is I want to get some stock data.\n",
            "What I'm going to do is I'm going to type in some tickers,\n",
            "some symbols, and let's see,\n",
            "I'm going to pick Abbott Laboratories.\n",
            "Let me do caps here so I can.\n",
            "What I want to do now is I want to simply select these guys.\n",
            "I want to go into data.\n",
            "I want to pick stocks,\n",
            "and it will churn up and it will find\n",
            "the information about these stock listings.\n",
            "As you can see here,\n",
            "here is the tickers,\n",
            "but now they've been translated into actual stock data.\n",
            "If you see over here, you have this little plus button.\n",
            "You can click on that and you can choose\n",
            "all kinds of data from these companies.\n",
            "The one I'm going to be using here is this price,\n",
            "so it puts the price in here.\n",
            "Now all I have to do, I can just copy this.\n",
            "This is the current price as of right now.\n",
            "If you look at it, it refers to A2,\n",
            "which is this cell, then just the price.\n",
            "If you want different ones,\n",
            "you could actually basically backspace this.\n",
            "You can see here, you can pick whatever you want here.\n",
            "These are the type of attributes available to you.\n",
            "But the one I chose was price,\n",
            "so that's what I'm going to stick with for here.\n",
            "Now we've got the current price.\n",
            "It might also be a good idea to know when you last refreshed this,\n",
            "so you know when it was updated.\n",
            "I'm going to use the built-in function now in Excel.\n",
            "I hit that, and I don't like this format,\n",
            "but let me fix that.\n",
            "I use a custom format here,\n",
            "so let me add seconds to this one.\n",
            "I'll do colon SS like this and say, okay.\n",
            "Now I'll just copy that down.\n",
            "The purchase price is whatever price you bought the stock for.\n",
            "This is the current price as of right now.\n",
            "But whatever you bought your number of shares for,\n",
            "that's the one you want to put into this purchase price.\n",
            "Now I happen to have just made up some numbers here,\n",
            "so I'm just going to copy those.\n",
            "I don't have to type in over and over again here.\n",
            "Let me just go in and paste the values here.\n",
            "Number of shares, same thing.\n",
            "I just made it up.\n",
            "Let me just copy some values for that,\n",
            "so we have something to go by.\n",
            "Here's the number of shares.\n",
            "Pretend you bought this many shares for this price.\n",
            "That's what we're saying. Now we can\n",
            "calculate what is the current market value of this,\n",
            "and we can do that by using this formula here.\n",
            "If I take column B,\n",
            "which is the current price,\n",
            "times column E, which is the number of shares,\n",
            "and I hit Enter, you can see here,\n",
            "I'm getting the current market value.\n",
            "I can do the same thing with the current cost.\n",
            "You can see I'm taking D times E,\n",
            "that will give me the current cost.\n",
            "Now what I can do is I can compute the difference,\n",
            "which will be the, let me copy this format while I have it.\n",
            "The profit would be simply equal to\n",
            "the market value minus the cost.\n",
            "Now we got the values.\n",
            "What I want to do is I want to just turn this into a table,\n",
            "so it'll be a little easier.\n",
            "I'm going to choose this and I'm going to say,\n",
            "okay, copy this down.\n",
            "Let me just copy it all down here like this.\n",
            "Now I got the values I need here.\n",
            "If you look at here,\n",
            "that's the last time we refreshed it.\n",
            "What we're doing here is it's\n",
            "equivalent to going into data and say refresh all,\n",
            "and you're going to see the date change and\n",
            "the current price probably changes too.\n",
            "Here's running and you can see they all\n",
            "will update it as of this date.\n",
            "Now we have the actual layout of this stock table.\n",
            "I'm going to add some code to this.\n",
            "First of all, you can name this\n",
            "whatever you want and the workbook whatever you want.\n",
            "I'm going to open up a new VBA module hitting\n",
            "Alt F11 and it shows up like this,\n",
            "and I'm going to just add a new module to this.\n",
            "Let me insert a module and let's call this module.\n",
            "Refresh module, then I have some code here I'm going to just add.\n",
            "When you first start this Excel macro workbook,\n",
            "you want to be in this workbook tab, if you will.\n",
            "You want to go under this workbook\n",
            "and you want on the open event like this.\n",
            "I'm going to delete this and just paste my code in.\n",
            "As you can see, I use an option explicit statement\n",
            "just to prevent errors from happening.\n",
            "This is the private sub workbook open event.\n",
            "I'm basically going to take this active workbook,\n",
            "I'm in here and refresh all.\n",
            "That's a command that will refresh the data.\n",
            "Then I have this next time setup to be the time plus the time serial.\n",
            "Whatever the time is plus the time serial.\n",
            "That would be now plus,\n",
            "you can see here hours, minutes, and seconds.\n",
            "This is hours, this is minutes, and this is seconds.\n",
            "I have set the refresh value to be 20 seconds from now,\n",
            "basically is what I say.\n",
            "Then I use the application object,\n",
            "the on time event,\n",
            "and I set it equal to this next time.\n",
            "What happens then?\n",
            "This application timer is going to fire this particular routine,\n",
            "this sub 20 seconds after it's been refreshed the last time.\n",
            "It's calling this macro,\n",
            "so we need a second macro.\n",
            "I'm going to grab the code for that,\n",
            "which is pretty much identical.\n",
            "Going into this refresh module, paste it.\n",
            "As you can see, it looks pretty similar.\n",
            "It's simply once the workbook open,\n",
            "it will fire this routine so the timer starts,\n",
            "and then it's going to call this particular macro the first time.\n",
            "After that, this macro is going to keep calling itself every 20 seconds.\n",
            "That way you keep it going every 20 seconds.\n",
            "Of course, you can change this to whatever you want it to be.\n",
            "Now I'm going to save this and I'm going to make this a macro-based workbook.\n",
            "Let's just call it something like this and I'll save it.\n",
            "Now I'm going to close this and open it again.\n",
            "Let's see what happens.\n",
            "I closed it, open up a new instance of Excel.\n",
            "Here it is. I select this.\n",
            "I know it's wrong. I notice I did a mistake.\n",
            "I should not have included this option explicit\n",
            "because now it wants me to declare the variable,\n",
            "so I don't want to do that. Let me remove that.\n",
            "Now if you want to do this correct,\n",
            "you need to figure out what kind of object this is\n",
            "and do it then up here in order to do it.\n",
            "But for the sake of saving some time here,\n",
            "I'm just going to remove this.\n",
            "Let me save that. Let me get out.\n",
            "Let me save the workbook again and then close it and open it one more time.\n",
            "I'm opening it up. There it goes.\n",
            "You can see here's the timestamp.\n",
            "It's 1,128.55, so keep\n",
            "an eye on that timestamp and keep an eye on this current price here.\n",
            "In 20 seconds, it's going to run again.\n",
            "There it went. As you can see,\n",
            "now it changed to 1,129.15.\n",
            "As you can see, you can add to this.\n",
            "You can add like an icon set and conditional formatting.\n",
            "For example, we could go in here on this profit maybe.\n",
            "We can do a conditional formatting.\n",
            "Maybe we want to use icon set.\n",
            "Let's say I choose these three shapes here.\n",
            "Let me see if Manage Rules.\n",
            "What I want to do is I want to edit this rule and I might want to say,\n",
            "first of all, let's make this numbers.\n",
            "What I want to say if it's greater than zero,\n",
            "then I want it to be green.\n",
            "If it's greater or equal to zero,\n",
            "meaning if it is zero,\n",
            "it becomes the yellow one.\n",
            "If it's less than zero, it becomes red.\n",
            "Let's apply that and say,\n",
            "okay, and let's copy this across all of this.\n",
            "Right now, it all seems to be positive.\n",
            "Let me change the purchase price maybe on this one.\n",
            "Let's make this 1,350 or something.\n",
            "As you can see now, it went red.\n",
            "Yeah, so you can apply a conditional formatting as well here.\n",
            "That's how this one works.\n",
            "As you can see, it keeps updating every 20 seconds.\n",
            "I hope you like this video and subscribe,\n",
            "like if you do,\n",
            "and I look forward to see you again soon. Thank you.\n",
            "\n",
            "=================================================================\n",
            "Summarized Text\n",
            "=================================================================\n",
            " \n",
            "In this video, I showed viewers how to work with stock data in Excel by copying some headers into a blank workbook. I then used the built-in stock function to import data from various stocks and set up a table structure with prices, purchase prices, number of shares, and current market values. Finally, I wrote a VBA code to refresh the data automatically every 20 seconds.\n"
          ]
        }
      ],
      "source": [
        "output = call_openai_summarization(text2summarize)\n",
        "print('Original Whisper Text')\n",
        "print('=================================================================')\n",
        "print(text2summarize)\n",
        "print('=================================================================')\n",
        "print('Summarized Text')\n",
        "print('=================================================================')\n",
        "print(' ')\n",
        "print(output)"
      ]
    },
    {
      "cell_type": "markdown",
      "metadata": {
        "id": "Gorswlxlr0Gb"
      },
      "source": [
        "# END OF CODE"
      ]
    }
  ],
  "metadata": {
    "accelerator": "GPU",
    "colab": {
      "provenance": [],
      "authorship_tag": "ABX9TyOTcrGX1q2COIcZtNHUUCaJ",
      "include_colab_link": true
    },
    "gpuClass": "standard",
    "kernelspec": {
      "display_name": "Python 3",
      "name": "python3"
    },
    "language_info": {
      "name": "python"
    }
  },
  "nbformat": 4,
  "nbformat_minor": 0
}